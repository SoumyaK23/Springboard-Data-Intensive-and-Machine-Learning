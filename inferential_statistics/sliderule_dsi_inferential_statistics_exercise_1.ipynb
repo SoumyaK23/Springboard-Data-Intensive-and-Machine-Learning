{
 "cells": [
  {
   "cell_type": "markdown",
   "metadata": {},
   "source": [
    "# What is the True Normal Human Body Temperature? \n",
    "\n",
    "#### Background\n",
    "\n",
    "The mean normal body temperature was held to be 37$^{\\circ}$C or 98.6$^{\\circ}$F for more than 120 years since it was first conceptualized and reported by Carl Wunderlich in a famous 1868 book. But, is this value statistically correct?"
   ]
  },
  {
   "cell_type": "markdown",
   "metadata": {},
   "source": [
    "<div class=\"span5 alert alert-info\">\n",
    "<h3>Exercises</h3>\n",
    "\n",
    "<p>In this exercise, you will analyze a dataset of human body temperatures and employ the concepts of hypothesis testing, confidence intervals, and statistical significance.</p>\n",
    "\n",
    "<p>Answer the following questions <b>in this notebook below and submit to your Github account</b>.</p> \n",
    "\n",
    "<ol>\n",
    "<li>  Is the distribution of body temperatures normal? \n",
    "    <ul>\n",
    "    <li> Although this is not a requirement for CLT to hold (read CLT carefully), it gives us some peace of mind that the population may also be normally distributed if we assume that this sample is representative of the population.\n",
    "    </ul>\n",
    "<li>  Is the sample size large? Are the observations independent?\n",
    "    <ul>\n",
    "    <li> Remember that this is a condition for the CLT, and hence the statistical tests we are using, to apply.\n",
    "    </ul>\n",
    "<li>  Is the true population mean really 98.6 degrees F?\n",
    "    <ul>\n",
    "    <li> Would you use a one-sample or two-sample test? Why?\n",
    "    <li> In this situation, is it appropriate to use the $t$ or $z$ statistic? \n",
    "    <li> Now try using the other test. How is the result be different? Why?\n",
    "    </ul>\n",
    "<li>  At what temperature should we consider someone's temperature to be \"abnormal\"?\n",
    "    <ul>\n",
    "    <li> Start by computing the margin of error and confidence interval.\n",
    "    </ul>\n",
    "<li>  Is there a significant difference between males and females in normal temperature?\n",
    "    <ul>\n",
    "    <li> What test did you use and why?\n",
    "    <li> Write a story with your conclusion in the context of the original problem.\n",
    "    </ul>\n",
    "</ol>\n",
    "</div>\n",
    "\n",
    "You can include written notes in notebook cells using Markdown: \n",
    "   - In the control panel at the top, choose Cell > Cell Type > Markdown\n",
    "   - Markdown syntax: http://nestacms.com/docs/creating-content/markdown-cheat-sheet\n",
    "\n",
    "#### Resources\n",
    "\n",
    "+ Information and data sources: http://www.amstat.org/publications/jse/datasets/normtemp.txt, http://www.amstat.org/publications/jse/jse_data_archive.htm\n",
    "+ Markdown syntax: http://nestacms.com/docs/creating-content/markdown-cheat-sheet\n",
    "\n",
    "****"
   ]
  },
  {
   "cell_type": "code",
   "execution_count": 1,
   "metadata": {
    "collapsed": true
   },
   "outputs": [],
   "source": [
    "# import libraries\n",
    "import pandas as pd\n",
    "import matplotlib.pyplot as plt\n",
    "import numpy as np\n",
    "import pandas as pd\n",
    "\n",
    "# import scipy and statsmodels libraries to use inbuild stats functions\n",
    "import scipy.stats as stats\n",
    "import statsmodels.api as sm\n",
    "\n",
    "%matplotlib inline\n",
    "\n",
    "# read the csv file with bosy temperatures\n",
    "df = pd.read_csv('data/human_body_temperature.csv')"
   ]
  },
  {
   "cell_type": "code",
   "execution_count": 2,
   "metadata": {
    "collapsed": false
   },
   "outputs": [
    {
     "data": {
      "text/html": [
       "<div>\n",
       "<table border=\"1\" class=\"dataframe\">\n",
       "  <thead>\n",
       "    <tr style=\"text-align: right;\">\n",
       "      <th></th>\n",
       "      <th>temperature</th>\n",
       "      <th>gender</th>\n",
       "      <th>heart_rate</th>\n",
       "    </tr>\n",
       "  </thead>\n",
       "  <tbody>\n",
       "    <tr>\n",
       "      <th>0</th>\n",
       "      <td>99.3</td>\n",
       "      <td>F</td>\n",
       "      <td>68.0</td>\n",
       "    </tr>\n",
       "    <tr>\n",
       "      <th>1</th>\n",
       "      <td>98.4</td>\n",
       "      <td>F</td>\n",
       "      <td>81.0</td>\n",
       "    </tr>\n",
       "    <tr>\n",
       "      <th>2</th>\n",
       "      <td>97.8</td>\n",
       "      <td>M</td>\n",
       "      <td>73.0</td>\n",
       "    </tr>\n",
       "    <tr>\n",
       "      <th>3</th>\n",
       "      <td>99.2</td>\n",
       "      <td>F</td>\n",
       "      <td>66.0</td>\n",
       "    </tr>\n",
       "    <tr>\n",
       "      <th>4</th>\n",
       "      <td>98.0</td>\n",
       "      <td>F</td>\n",
       "      <td>73.0</td>\n",
       "    </tr>\n",
       "  </tbody>\n",
       "</table>\n",
       "</div>"
      ],
      "text/plain": [
       "   temperature gender  heart_rate\n",
       "0         99.3      F        68.0\n",
       "1         98.4      F        81.0\n",
       "2         97.8      M        73.0\n",
       "3         99.2      F        66.0\n",
       "4         98.0      F        73.0"
      ]
     },
     "execution_count": 2,
     "metadata": {},
     "output_type": "execute_result"
    }
   ],
   "source": [
    "# look at the dataframe \n",
    "df.head(5)"
   ]
  },
  {
   "cell_type": "code",
   "execution_count": 3,
   "metadata": {
    "collapsed": false
   },
   "outputs": [
    {
     "data": {
      "text/html": [
       "<div>\n",
       "<table border=\"1\" class=\"dataframe\">\n",
       "  <thead>\n",
       "    <tr style=\"text-align: right;\">\n",
       "      <th></th>\n",
       "      <th>temperature</th>\n",
       "      <th>heart_rate</th>\n",
       "    </tr>\n",
       "  </thead>\n",
       "  <tbody>\n",
       "    <tr>\n",
       "      <th>count</th>\n",
       "      <td>130.000000</td>\n",
       "      <td>130.000000</td>\n",
       "    </tr>\n",
       "    <tr>\n",
       "      <th>mean</th>\n",
       "      <td>98.249231</td>\n",
       "      <td>73.761538</td>\n",
       "    </tr>\n",
       "    <tr>\n",
       "      <th>std</th>\n",
       "      <td>0.733183</td>\n",
       "      <td>7.062077</td>\n",
       "    </tr>\n",
       "    <tr>\n",
       "      <th>min</th>\n",
       "      <td>96.300000</td>\n",
       "      <td>57.000000</td>\n",
       "    </tr>\n",
       "    <tr>\n",
       "      <th>25%</th>\n",
       "      <td>97.800000</td>\n",
       "      <td>69.000000</td>\n",
       "    </tr>\n",
       "    <tr>\n",
       "      <th>50%</th>\n",
       "      <td>98.300000</td>\n",
       "      <td>74.000000</td>\n",
       "    </tr>\n",
       "    <tr>\n",
       "      <th>75%</th>\n",
       "      <td>98.700000</td>\n",
       "      <td>79.000000</td>\n",
       "    </tr>\n",
       "    <tr>\n",
       "      <th>max</th>\n",
       "      <td>100.800000</td>\n",
       "      <td>89.000000</td>\n",
       "    </tr>\n",
       "  </tbody>\n",
       "</table>\n",
       "</div>"
      ],
      "text/plain": [
       "       temperature  heart_rate\n",
       "count   130.000000  130.000000\n",
       "mean     98.249231   73.761538\n",
       "std       0.733183    7.062077\n",
       "min      96.300000   57.000000\n",
       "25%      97.800000   69.000000\n",
       "50%      98.300000   74.000000\n",
       "75%      98.700000   79.000000\n",
       "max     100.800000   89.000000"
      ]
     },
     "execution_count": 3,
     "metadata": {},
     "output_type": "execute_result"
    }
   ],
   "source": [
    "# descriptive statistics to start analysing data\n",
    "df.describe()"
   ]
  },
  {
   "cell_type": "code",
   "execution_count": 4,
   "metadata": {
    "collapsed": false
   },
   "outputs": [
    {
     "data": {
      "text/plain": [
       "0    99.3\n",
       "1    98.4\n",
       "Name: temperature, dtype: float64"
      ]
     },
     "execution_count": 4,
     "metadata": {},
     "output_type": "execute_result"
    }
   ],
   "source": [
    "# trom the dataframe, choose only temperature data\n",
    "temp = df['temperature']\n",
    "temp.head(2)"
   ]
  },
  {
   "cell_type": "code",
   "execution_count": 5,
   "metadata": {
    "collapsed": false
   },
   "outputs": [
    {
     "name": "stdout",
     "output_type": "stream",
     "text": [
      "The sample size is 130\n",
      "The minimum and maximum values are (96.299999999999997, 100.8)\n",
      "The mean for temperature data is 98.2492307692\n",
      "The variance is 0.537557543232\n",
      "The skewness is -0.004367976879081625\n",
      "The kurtosis is 0.7049597854114693\n"
     ]
    }
   ],
   "source": [
    "# From the dataset, infer stats like sample size, mean, min/max, variance, skewness and kurtosis\n",
    "s, mnmx, mean, var, sk, kt = stats.describe(temp)\n",
    "print('The sample size is', s)\n",
    "print('The minimum and maximum values are',mnmx)\n",
    "print('The mean for temperature data is',mean)\n",
    "print('The variance is',var)\n",
    "print('The skewness is',sk)\n",
    "print('The kurtosis is',kt)"
   ]
  },
  {
   "cell_type": "markdown",
   "metadata": {},
   "source": [
    "\n",
    "# Question 1\n",
    "\n",
    "* Is the distribution of body temperatures normal?\n",
    "* Although this is not a requirement for CLT to hold (read CLT carefully), \n",
    "it gives us some peace of mind that the population may also be normally distributed \n",
    "if we assume that this sample is representative of the population.\n"
   ]
  },
  {
   "cell_type": "markdown",
   "metadata": {},
   "source": [
    "# Answer 1\n",
    "* To answer the questions we can plot the data as a histogram to visually analyse is the distribution is Normal or Gaussian. \n",
    "* We can also use the Anderson-Darling Normality Test."
   ]
  },
  {
   "cell_type": "code",
   "execution_count": 6,
   "metadata": {
    "collapsed": false
   },
   "outputs": [
    {
     "data": {
      "image/png": "[encoded data removed]",
      "text/plain": [
       "<matplotlib.figure.Figure at 0x111116d68>"
      ]
     },
     "metadata": {},
     "output_type": "display_data"
    },
    {
     "data": {
      "image/png": "[encoded data removed]",
      "text/plain": [
       "<matplotlib.figure.Figure at 0x11451d128>"
      ]
     },
     "metadata": {},
     "output_type": "display_data"
    }
   ],
   "source": [
    "# to analyze if distribution is normal, plot the histogram\n",
    "plt.hist(temp)\n",
    "plt.xlabel('Temperature')\n",
    "plt.ylabel('Sample Quantities')\n",
    "plt.grid(True)\n",
    "\n",
    "# a qq plot can also be used to give further information like variation from perfect normal distribution, outliers\n",
    "sm.qqplot(temp, line='s')\n",
    "plt.grid(True)"
   ]
  },
  {
   "cell_type": "code",
   "execution_count": 7,
   "metadata": {
    "collapsed": false
   },
   "outputs": [
    {
     "data": {
      "text/plain": [
       "<matplotlib.axes._subplots.AxesSubplot at 0x11470e668>"
      ]
     },
     "execution_count": 7,
     "metadata": {},
     "output_type": "execute_result"
    },
    {
     "data": {
      "image/png": "[encoded data removed]",
      "text/plain": [
       "<matplotlib.figure.Figure at 0x1111166a0>"
      ]
     },
     "metadata": {},
     "output_type": "display_data"
    }
   ],
   "source": [
    "# to confirm the symmetry and outliers seen in qq plot , we can view a boxplot\n",
    "temp.plot (kind= 'box')"
   ]
  },
  {
   "cell_type": "markdown",
   "metadata": {},
   "source": [
    "The visual inspection indicates that the shape of the distribution conforms with what would be expected of a normal distribution: bell shaped histrogram skewed to the right. However, the q-q plot(red line is a perfect normal distribution) seems to waver towards the ends suggesting that it isn't a perfect normal distribution. This is confirmed by the boxplot which shows symmetry within the whiskers but with outliers. "
   ]
  },
  {
   "cell_type": "code",
   "execution_count": 8,
   "metadata": {
    "collapsed": false
   },
   "outputs": [
    {
     "name": "stdout",
     "output_type": "stream",
     "text": [
      "p value is 0.258747986349\n",
      "p is greater than 0.05. So the distribution is normal\n"
     ]
    }
   ],
   "source": [
    "# After the plots, use the Anderson-Darling Normality Test\n",
    "# Check for P-value.\n",
    "# P-value < 0.05 = not normal. normal = P-value >= 0.05\n",
    "\n",
    "s,p=stats.normaltest(df['temperature'])\n",
    "print('p value is',p)\n",
    "if p >= 0.05:\n",
    "    print('p is greater than 0.05. So the distribution is normal')\n",
    "else:\n",
    "    print('p is less than 0.05. So the distribution is NOT normal')"
   ]
  },
  {
   "cell_type": "markdown",
   "metadata": {
    "collapsed": false
   },
   "source": [
    "# Question 2:\n",
    "Is the sample size large? Are the observations independent?\n",
    "* The sample n if less than 10% of the total population which is about 7.5 billion. However it is not insignificant either. Even though the sample size is not large, it is distributed normally. Hence statistical tests can be applied\n",
    "* Since these are values for human body measurements, we can assume it is normal (as each value is measured independently/individually)."
   ]
  },
  {
   "cell_type": "markdown",
   "metadata": {},
   "source": [
    "# Question 3\n",
    "\n",
    "* Is the true population mean really 98.6 degrees F?\n",
    "* Would you use a one-sample or two-sample test? Why?\n",
    "* In this situation, is it appropriate to use the  t or  z statistic?\n",
    "* Now try using the other test. How is the result be different? Why?\n"
   ]
  },
  {
   "cell_type": "markdown",
   "metadata": {},
   "source": [
    "# Answer 3\n",
    "Test the hypothesis that the temperature is 98.6 degrees F by looking at both t-statistic and z-score\n",
    "* H0: The mean temperature is 98.6 degrees F\n",
    "* HA: The mean temperature is NOT 98.6 degrees F\n"
   ]
  },
  {
   "cell_type": "code",
   "execution_count": 9,
   "metadata": {
    "collapsed": false
   },
   "outputs": [
    {
     "name": "stdout",
     "output_type": "stream",
     "text": [
      "For the sample, mean is 98.25, standard deviation is 0.73 and critical value is 1.96\n"
     ]
    }
   ],
   "source": [
    "# using library functions, find the sample mean and standard deviation\n",
    "# critical value (z_0.975 or z_0.025) = 1.96\n",
    "sample_mean = temp.mean()\n",
    "sample_std = temp.std()\n",
    "cv = 1.96\n",
    "print('For the sample, mean is %3.2f, standard deviation is %3.2f and critical value is 1.96' % (sample_mean, sample_std))"
   ]
  },
  {
   "cell_type": "code",
   "execution_count": 10,
   "metadata": {
    "collapsed": false
   },
   "outputs": [
    {
     "name": "stdout",
     "output_type": "stream",
     "text": [
      "The calculated z-score is -5.45482329236 and the p-value is  4.9021570141e-08\n",
      "The calculated t-statistic is -5.45482329236 and the p-value is  2.41063204156e-07\n",
      "p-value is less than critical value in both cases. So the mean temperature is NOT 98.6 degrees F. Reject null hypothesis\n"
     ]
    }
   ],
   "source": [
    "# using library functions, find the z-score\n",
    "z, pval = sm.stats.ztest(temp, value = 98.6)\n",
    "print('The calculated z-score is', z, 'and the p-value is ', pval)\n",
    "\n",
    "# using library functions, find the z-score, t-statsistic and p-values\n",
    "t, p = stats.ttest_1samp(temp,98.6)\n",
    "print('The calculated t-statistic is', t, 'and the p-value is ', p)\n",
    "\n",
    "# we can observe that even though the the z-score and t-statistic are similar, the p values are very different\n",
    "# the null hypothesis can be tested against the p-values\n",
    "if p >= cv and pval>= cv:\n",
    "    print('p-value is greater than critical value in both cases. So the temperature is 98.6 degrees F. Accept null hypothesis')\n",
    "else:\n",
    "    print('p-value is less than critical value in both cases. So the mean temperature is NOT 98.6 degrees F. Reject null hypothesis')"
   ]
  },
  {
   "cell_type": "markdown",
   "metadata": {},
   "source": [
    "The “One Sample T-Test” is used to compare a sample's average value to a single number. T-test is more appropriate as it adjusts the shape according to the sample size whereas as z-score assumes standard normal distribution. We can also deduce that the sample is statistically different from the null hypothesis of 98.6 degree F body temperature as the p-values are very small.."
   ]
  },
  {
   "cell_type": "markdown",
   "metadata": {},
   "source": [
    "# Question 4\n",
    "\n",
    "* At what temperature should we consider someone's temperature to be \"abnormal\"?\n",
    "* Start by computing the margin of error and confidence interval\n"
   ]
  },
  {
   "cell_type": "markdown",
   "metadata": {},
   "source": [
    "# Answer 4\n",
    "Lets define abnormal as temperature that is 95% outside confidence interval.\n",
    "\n",
    "We already deduced that the critical value (z_0.975 or z_0.025) = 1.96\n",
    "*margin of error = critical value * (standard deviation/sqrt(sample size))\n",
    "\n",
    "For known standard deviation:\n",
    "* CI (high) = mean + margin or error\n",
    "* CI (low) = mean - margin or error\n",
    "Since all values are known, the calculation is as follows"
   ]
  },
  {
   "cell_type": "code",
   "execution_count": 11,
   "metadata": {
    "collapsed": false
   },
   "outputs": [
    {
     "name": "stdout",
     "output_type": "stream",
     "text": [
      "Standard error is 0.0643044168379 and margin of error is 0.126036657002\n",
      "Abnormal temperatures lie outside this range: lower than 98.1231941122 and higher than 98.3752674262\n"
     ]
    }
   ],
   "source": [
    "# calculate margin_error using formula\n",
    "std_error = sample_std / np.sqrt(len(df))\n",
    "margin_error = cv * std_error\n",
    "print('Standard error is', std_error, 'and margin of error is', margin_error)\n",
    "\n",
    "ci_high = sample_mean + margin_error\n",
    "ci_low = sample_mean - margin_error\n",
    "print('Abnormal temperatures lie outside this range: lower than', ci_low,'and higher than', ci_high)"
   ]
  },
  {
   "cell_type": "markdown",
   "metadata": {},
   "source": [
    "# Question 5\n",
    "\n",
    "* Is there a significant difference between males and females in normal temperature?\n",
    "* What test did you use and why?\n",
    "* Write a story with your conclusion in the context of the original problem.\n"
   ]
  },
  {
   "cell_type": "markdown",
   "metadata": {},
   "source": [
    "# Answer 5\n",
    "\n",
    "To find if there a significant difference between males and females in normal temperature, we can do a two-sample t-test. We can use the two-sample z-test to evaluate the difference between two groups because:\n",
    "* The two samples represent the same group\n",
    "* They are independent\n",
    "* They are normally distributed\n",
    "The z-score is computed as follows:\n",
    "z = (observed difference - expected difference)/standard error for difference\n",
    "\n",
    "The null and alternate hypothesese are as follows:\n",
    "* H0: There is no significant difference between males and females in normal temperature\n",
    "* HA: There is a significant difference between males and females in normal temperature"
   ]
  },
  {
   "cell_type": "code",
   "execution_count": 12,
   "metadata": {
    "collapsed": false
   },
   "outputs": [
    {
     "data": {
      "image/png": "[encoded data removed]",
      "text/plain": [
       "<matplotlib.figure.Figure at 0x1144d9080>"
      ]
     },
     "metadata": {},
     "output_type": "display_data"
    }
   ],
   "source": [
    "# create two datasets and separate male and female temperature to test difference\n",
    "m_temp = df[df['gender'] == 'M']['temperature']\n",
    "f_temp = df[df['gender'] == 'F']['temperature']\n",
    "\n",
    "# visual inspection\n",
    "df[['gender', 'temperature']].groupby('gender').boxplot(return_type='axes');"
   ]
  },
  {
   "cell_type": "code",
   "execution_count": 13,
   "metadata": {
    "collapsed": false
   },
   "outputs": [
    {
     "data": {
      "text/plain": [
       "count    65.000000\n",
       "mean     98.104615\n",
       "std       0.698756\n",
       "min      96.300000\n",
       "25%      97.600000\n",
       "50%      98.100000\n",
       "75%      98.600000\n",
       "max      99.500000\n",
       "Name: temperature, dtype: float64"
      ]
     },
     "execution_count": 13,
     "metadata": {},
     "output_type": "execute_result"
    }
   ],
   "source": [
    "# descriptive stats for male temperatures\n",
    "m_temp.describe()"
   ]
  },
  {
   "cell_type": "code",
   "execution_count": 14,
   "metadata": {
    "collapsed": false
   },
   "outputs": [
    {
     "data": {
      "text/plain": [
       "count     65.000000\n",
       "mean      98.393846\n",
       "std        0.743488\n",
       "min       96.400000\n",
       "25%       98.000000\n",
       "50%       98.400000\n",
       "75%       98.800000\n",
       "max      100.800000\n",
       "Name: temperature, dtype: float64"
      ]
     },
     "execution_count": 14,
     "metadata": {},
     "output_type": "execute_result"
    }
   ],
   "source": [
    "# descriptive stats and female temperatures\n",
    "f_temp.describe()"
   ]
  },
  {
   "cell_type": "code",
   "execution_count": 15,
   "metadata": {
    "collapsed": false
   },
   "outputs": [
    {
     "name": "stdout",
     "output_type": "stream",
     "text": [
      "The t-statistic by comparing the two samples is  -2.28543453817\n",
      "t-statistic value is less than critical value. There is a significant difference in temperatures between genders. Reject null hypothesis.\n"
     ]
    }
   ],
   "source": [
    "# difference in means between the two samples\n",
    "m_mean = m_temp.mean()\n",
    "f_mean = f_temp.mean()\n",
    "diff = m_mean - f_mean\n",
    "\n",
    "# find the variances between male and female temperatures\n",
    "m_std = m_temp.var()\n",
    "f_std = f_temp.var()\n",
    "\n",
    "# find t-statistics to test if there is significant difference\n",
    "tval = diff/(np.sqrt(m_std/len(m_temp) + f_std/len(f_temp)))\n",
    "print('The t-statistic by comparing the two samples is ',tval)\n",
    "\n",
    "# compare t-statistic to critical value to test hypotheses\n",
    "if tval >= cv:\n",
    "    print('t-statistic value is greater than critical value. There is no significant difference in temperatures between genders. Accept null hypothesis.')\n",
    "else:\n",
    "    print('t-statistic value is less than critical value. There is a significant difference in temperatures between genders. Reject null hypothesis.')\n",
    "\n"
   ]
  },
  {
   "cell_type": "code",
   "execution_count": 16,
   "metadata": {
    "collapsed": false
   },
   "outputs": [
    {
     "name": "stdout",
     "output_type": "stream",
     "text": [
      "t-staistic: -2.28543453817 p-value 0.0239318831224\n",
      "t-statistic value is less than critical value. There is a significant difference in temperatures between genders. Reject null hypothesis.\n"
     ]
    }
   ],
   "source": [
    "# the two sample t-test can also be computed using the library function\n",
    "tv, pv = stats.ttest_ind(m_temp,f_temp)\n",
    "print('t-staistic:',tv,'p-value',pv)\n",
    "\n",
    "# compare t-statistic to critical value to test hypotheses\n",
    "if tv >= cv:\n",
    "    print('t-statistic value is greater than critical value. There is no significant difference in temperatures between genders. Accept null hypothesis.')\n",
    "else:\n",
    "    print('t-statistic value is less than critical value. There is a significant difference in temperatures between genders. Reject null hypothesis.')\n",
    "\n"
   ]
  },
  {
   "cell_type": "markdown",
   "metadata": {},
   "source": [
    "The null hypothesis is rejected, since p-value is less 0.05. We conclude that based on the two group samples, there is a difference between male and female body temeperatures in a specific population. "
   ]
  }
 ],
 "metadata": {
  "anaconda-cloud": {},
  "kernelspec": {
   "display_name": "Python 3",
   "language": "python",
   "name": "python3"
  },
  "language_info": {
   "codemirror_mode": {
    "name": "ipython",
    "version": 3
   },
   "file_extension": ".py",
   "mimetype": "text/x-python",
   "name": "python",
   "nbconvert_exporter": "python",
   "pygments_lexer": "ipython3",
   "version": "3.6.0"
  }
 },
 "nbformat": 4,
 "nbformat_minor": 0
}
