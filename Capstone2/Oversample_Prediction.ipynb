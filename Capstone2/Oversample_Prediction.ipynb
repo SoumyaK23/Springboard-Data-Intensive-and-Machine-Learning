{
 "cells": [
  {
   "cell_type": "code",
   "execution_count": 1,
   "metadata": {
    "collapsed": false
   },
   "outputs": [
    {
     "name": "stderr",
     "output_type": "stream",
     "text": [
      "/Applications/Anaconda/anaconda/lib/python3.6/site-packages/sklearn/cross_validation.py:44: DeprecationWarning: This module was deprecated in version 0.18 in favor of the model_selection module into which all the refactored classes and functions are moved. Also note that the interface of the new CV iterators are different from that of this module. This module will be removed in 0.20.\n",
      "  \"This module will be removed in 0.20.\", DeprecationWarning)\n"
     ]
    }
   ],
   "source": [
    "# import libraries\n",
    "import pandas as pd\n",
    "import matplotlib.pyplot as plt\n",
    "import numpy as np\n",
    "import pandas as pd\n",
    "import seaborn as sns\n",
    "import csv as csv\n",
    "%matplotlib inline\n",
    "\n",
    "# import scipy and statsmodels libraries to use inbuild stats functions\n",
    "import scipy.stats as stats\n",
    "import statsmodels.api as sm\n",
    "\n",
    "\n",
    "from sklearn.model_selection import cross_val_score, train_test_split\n",
    "from sklearn.ensemble import RandomForestClassifier\n",
    "from sklearn.neighbors import KNeighborsClassifier\n",
    "from sklearn.linear_model import LogisticRegression\n",
    "from sklearn.cross_validation import train_test_split\n",
    "from sklearn import metrics\n",
    "\n",
    "from sklearn.cross_validation import cross_val_score\n",
    "from sklearn.metrics import accuracy_score\n",
    "from sklearn.metrics import f1_score, make_scorer, confusion_matrix, matthews_corrcoef, cohen_kappa_score\n",
    "from imblearn.over_sampling import SMOTE\n",
    "from imblearn.metrics import classification_report_imbalanced\n",
    "from imblearn import over_sampling as os\n",
    "from imblearn import pipeline as pl\n",
    "from imblearn.metrics import (geometric_mean_score,\n",
    "                              make_index_balanced_accuracy)\n",
    "\n",
    "\n",
    "# read the csv file \n",
    "df = pd.read_csv('studentInfo.csv')"
   ]
  },
  {
   "cell_type": "code",
   "execution_count": 2,
   "metadata": {
    "collapsed": false
   },
   "outputs": [
    {
     "data": {
      "text/plain": [
       "Index(['code_module', 'code_presentation', 'id_student',\n",
       "       'num_of_prev_attempts', 'studied_credits', 'age_band_35-55',\n",
       "       'age_band_55<=', 'gender_M', 'disability_Y',\n",
       "       'highest_education_HE Qualification',\n",
       "       'highest_education_Lower Than A Level',\n",
       "       'highest_education_No Formal quals',\n",
       "       'highest_education_Post Graduate Qualification', 'imd_band_10-20',\n",
       "       'imd_band_20-30%', 'imd_band_30-40%', 'imd_band_40-50%',\n",
       "       'imd_band_50-60%', 'imd_band_60-70%', 'imd_band_70-80%',\n",
       "       'imd_band_80-90%', 'imd_band_90-100%', 'region_East Midlands Region',\n",
       "       'region_Ireland', 'region_London Region', 'region_North Region',\n",
       "       'region_North Western Region', 'region_Scotland',\n",
       "       'region_South East Region', 'region_South Region',\n",
       "       'region_South West Region', 'region_Wales',\n",
       "       'region_West Midlands Region', 'region_Yorkshire Region',\n",
       "       'final_result_Fail', 'final_result_Pass', 'final_result_Withdrawn'],\n",
       "      dtype='object')"
      ]
     },
     "execution_count": 2,
     "metadata": {},
     "output_type": "execute_result"
    }
   ],
   "source": [
    "# convert data in the original dataset from categorical to numerical (it is easier to analyse)\n",
    "df_encoded = pd.get_dummies(df, columns=['age_band','gender','disability', 'highest_education','imd_band','region', 'final_result'], drop_first=True)\n",
    "df_encoded.columns"
   ]
  },
  {
   "cell_type": "code",
   "execution_count": 3,
   "metadata": {
    "collapsed": false
   },
   "outputs": [
    {
     "name": "stdout",
     "output_type": "stream",
     "text": [
      "Data consists of 32593 instances of data with 31 total columns with value counts of \n",
      "0    22437\n",
      "1    10156\n",
      "Name: final_result_Withdrawn, dtype: int64\n",
      "where 1 indicated Withdrawn\n"
     ]
    }
   ],
   "source": [
    "# Seperate target labels\n",
    "results = df_encoded['final_result_Withdrawn']\n",
    "\n",
    "features = df_encoded.drop(['code_module', 'code_presentation', 'id_student',\n",
    "        'final_result_Fail', 'final_result_Pass', 'final_result_Withdrawn'], axis=1)\n",
    "\n",
    "# Get some specifics on our dataset\n",
    "print(\"Data consists of {} instances of data with {} total columns with value counts of \\n{}\".format(\n",
    "    features.shape[0], features.shape[1], results.value_counts()))\n",
    "print(\"where 1 indicated Withdrawn\")"
   ]
  },
  {
   "cell_type": "code",
   "execution_count": 4,
   "metadata": {
    "collapsed": false
   },
   "outputs": [],
   "source": [
    "# use SMOTE for oversampling \n",
    "oversampler = SMOTE()\n",
    "os_features, os_results = oversampler.fit_sample(features, results)\n",
    "\n",
    "RANDOM_STATE = 42\n",
    "\n",
    "# Split the data into a training and test set.\n",
    "X_train, X_test, y_train, y_test = train_test_split(os_features, os_results, test_size = .3, random_state=0)"
   ]
  },
  {
   "cell_type": "code",
   "execution_count": 5,
   "metadata": {
    "collapsed": false
   },
   "outputs": [
    {
     "name": "stdout",
     "output_type": "stream",
     "text": [
      "Training\n",
      "____________________\n",
      "Predicting\n",
      "[1 0 0 ..., 0 1 0]\n",
      "class probabilities: [[ 0.34251493  0.65748507]\n",
      " [ 0.62435822  0.37564178]\n",
      " [ 0.57354961  0.42645039]\n",
      " ..., \n",
      " [ 0.54806316  0.45193684]\n",
      " [ 0.29552028  0.70447972]\n",
      " [ 0.58856438  0.41143562]]\n"
     ]
    },
    {
     "data": {
      "image/png": "[encoded data removed]",
      "text/plain": [
       "<matplotlib.figure.Figure at 0x11237fa20>"
      ]
     },
     "metadata": {},
     "output_type": "display_data"
    },
    {
     "name": "stdout",
     "output_type": "stream",
     "text": [
      "____________________\n",
      "Evaluating\n",
      "Using 10-fold cross-validation\n",
      "cross validation scores: [ 0.61330363  0.59261617  0.61171229  0.59707193  0.59758039  0.60362942\n",
      "  0.59121299  0.60764331  0.59426752  0.59968153]\n",
      "mean score: 0.600871916216\n",
      "____________________\n",
      "generating metrics\n",
      "accurancy score: 0.602763128575\n",
      "roc score: 0.642773004445\n",
      "f1 score: 0.581991558543\n",
      "classification report:\n",
      "                   pre       rec       spe        f1       geo       iba       sup\n",
      "\n",
      "          0       0.59      0.65      0.55      0.62      0.60      0.36      6733\n",
      "          1       0.61      0.55      0.65      0.58      0.60      0.37      6730\n",
      "\n",
      "avg / total       0.60      0.60      0.60      0.60      0.60      0.36     13463\n",
      "\n",
      "confusion matrix\n",
      "[[4392 2341]\n",
      " [3007 3723]]\n",
      "Mathews Correlation 0.206522022969\n",
      "Cohens kappa 0.205508701861\n",
      "The geometric mean is 0.60071135938347\n",
      "plotting ROC curve\n"
     ]
    },
    {
     "data": {
      "image/png": "[encoded data removed]",
      "text/plain": [
       "<matplotlib.figure.Figure at 0x11745c518>"
      ]
     },
     "metadata": {},
     "output_type": "display_data"
    },
    {
     "name": "stdout",
     "output_type": "stream",
     "text": [
      "Done\n"
     ]
    }
   ],
   "source": [
    "\n",
    "print('Training')\n",
    "model2 = pl.make_pipeline(os.SMOTE(random_state=RANDOM_STATE),\n",
    "                            LogisticRegression(class_weight=\"balanced\"))\n",
    "model2.fit(X_train, y_train)\n",
    "\n",
    "print(20*'_')\n",
    "# predict class labels for the test set\n",
    "print('Predicting')\n",
    "predicted = model2.predict(X_test)\n",
    "print(predicted)\n",
    "\n",
    "# generate class probabilities\n",
    "probs = model2.predict_proba(X_test)\n",
    "print('class probabilities:',probs)\n",
    "plt.hist(probs) \n",
    "plt.show()\n",
    "\n",
    "print(20*'_')\n",
    "# evaluate the model using 10-fold cross-validation\n",
    "print('Evaluating')\n",
    "print('Using 10-fold cross-validation')\n",
    "scores = cross_val_score(LogisticRegression(class_weight=\"balanced\"), X_train, y_train, scoring='accuracy', cv=10)\n",
    "print('cross validation scores:',scores)\n",
    "print('mean score:',scores.mean())\n",
    "\n",
    "print(20*'_')\n",
    "# generate evaluation metrics\n",
    "print('generating metrics')\n",
    "print('accurancy score:',metrics.accuracy_score(y_test, predicted))\n",
    "print('roc score:',metrics.roc_auc_score(y_test, probs[:, 1]))\n",
    "print('f1 score:',metrics.f1_score(y_test, predicted))\n",
    "print('classification report:')\n",
    "print(classification_report_imbalanced(y_test, predicted))\n",
    "print('confusion matrix')\n",
    "print(metrics.confusion_matrix(y_test, predicted))\n",
    "print('Mathews Correlation',matthews_corrcoef(y_test, predicted)) \n",
    "print('Cohens kappa', cohen_kappa_score(y_test, predicted))\n",
    "\n",
    "\n",
    "print('The geometric mean is {}'.format(geometric_mean_score(\n",
    "    y_test,\n",
    "    predicted)))\n",
    "\n",
    "\n",
    "# plot ROC curve \n",
    "print('plotting ROC curve')\n",
    "fpr, tpr, thresholds = metrics.roc_curve(y_test, probs[:, 1]) \n",
    "plt.plot(fpr, tpr) \n",
    "plt.xlim([0.0, 1.0]) \n",
    "plt.ylim([0.0, 1.0]) \n",
    "plt.xlabel('False Positive Rate') \n",
    "plt.ylabel('True Positive Rate') \n",
    "plt.show()\n",
    "\n",
    "print('Done')"
   ]
  },
  {
   "cell_type": "code",
   "execution_count": null,
   "metadata": {
    "collapsed": false
   },
   "outputs": [
    {
     "name": "stdout",
     "output_type": "stream",
     "text": [
      "For Random Forest Classifier:\n",
      "[ 0.67918523  0.66295353  0.68204965  0.67281986  0.6663483   0.6864056\n",
      "  0.669532    0.68312102  0.67898089  0.68089172] 0.676228780177\n",
      "The geometric mean is 0.6754688924891321\n",
      "[[4731 2002]\n",
      " [2360 4370]]\n",
      "                   pre       rec       spe        f1       geo       iba       sup\n",
      "\n",
      "          0       0.67      0.70      0.65      0.68      0.68      0.46      6733\n",
      "          1       0.69      0.65      0.70      0.67      0.68      0.46      6730\n",
      "\n",
      "avg / total       0.68      0.68      0.68      0.68      0.68      0.46     13463\n",
      "\n",
      "Mathews Correlation 0.352492933173\n"
     ]
    }
   ],
   "source": [
    "# Try Random Forest classifier classifiers \n",
    "print(\"For Random Forest Classifier:\")\n",
    "\n",
    "\n",
    "rf = pl.make_pipeline(os.SMOTE(random_state=RANDOM_STATE),\n",
    "                            RandomForestClassifier(class_weight=\"balanced\"))\n",
    "\n",
    "\n",
    "\n",
    "rfscores = cross_val_score(rf, X_train, y_train, scoring='accuracy', cv=10)\n",
    "print(rfscores, rfscores.mean())\n",
    "\n",
    "# Train the classifier with balancing\n",
    "rf.fit(X_train, y_train)\n",
    "\n",
    "# Test the classifier and get the prediction\n",
    "y_pred_rf = rf.predict(X_test)\n",
    "print('The geometric mean is {}'.format(geometric_mean_score(\n",
    "    y_test,\n",
    "    y_pred_rf)))\n",
    "\n",
    "\n",
    "# Show the classification report\n",
    "print(metrics.confusion_matrix(y_test, y_pred_rf))\n",
    "print(classification_report_imbalanced(y_test, y_pred_rf))\n",
    "print('Mathews Correlation',matthews_corrcoef(y_test, y_pred_rf)) "
   ]
  },
  {
   "cell_type": "code",
   "execution_count": null,
   "metadata": {
    "collapsed": false
   },
   "outputs": [
    {
     "name": "stdout",
     "output_type": "stream",
     "text": [
      "For K-Nearest Neighbors Classifier:\n",
      "[ 0.63940165  0.62667091  0.63558243  0.63017187  0.62559694  0.62973575\n",
      "  0.61954791  0.62484076  0.60636943  0.64522293] 0.628314059416\n"
     ]
    }
   ],
   "source": [
    "knn = KNeighborsClassifier()\n",
    "print(\"For K-Nearest Neighbors Classifier:\")\n",
    "knnscores = cross_val_score(knn, X_train, y_train, scoring='accuracy', cv=10)\n",
    "print(knnscores, knnscores.mean())\n",
    "\n",
    "# Train the classifier with balancing\n",
    "knn.fit(X_train, y_train)\n",
    "\n",
    "# Test the classifier and get the prediction\n",
    "y_pred_knn = knn.predict(X_test)\n",
    "print('The geometric mean is {}'.format(geometric_mean_score(\n",
    "    y_test,\n",
    "    y_pred_knn)))\n",
    "\n",
    "# Show the classification report\n",
    "print(metrics.confusion_matrix(y_test, y_pred_knn))\n",
    "print(classification_report_imbalanced(y_test, y_pred_knn))\n",
    "print('Mathews Correlation',matthews_corrcoef(y_test, y_pred_knn)) \n"
   ]
  }
 ],
 "metadata": {
  "kernelspec": {
   "display_name": "Python 3",
   "language": "python",
   "name": "python3"
  },
  "language_info": {
   "codemirror_mode": {
    "name": "ipython",
    "version": 3
   },
   "file_extension": ".py",
   "mimetype": "text/x-python",
   "name": "python",
   "nbconvert_exporter": "python",
   "pygments_lexer": "ipython3",
   "version": "3.6.0"
  }
 },
 "nbformat": 4,
 "nbformat_minor": 2
}
