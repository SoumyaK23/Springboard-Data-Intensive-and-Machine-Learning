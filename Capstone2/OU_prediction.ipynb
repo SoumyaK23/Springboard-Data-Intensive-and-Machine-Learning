{
 "cells": [
  {
   "cell_type": "code",
   "execution_count": 1,
   "metadata": {
    "collapsed": false
   },
   "outputs": [
    {
     "name": "stderr",
     "output_type": "stream",
     "text": [
      "/Applications/Anaconda/anaconda/lib/python3.6/site-packages/sklearn/cross_validation.py:44: DeprecationWarning: This module was deprecated in version 0.18 in favor of the model_selection module into which all the refactored classes and functions are moved. Also note that the interface of the new CV iterators are different from that of this module. This module will be removed in 0.20.\n",
      "  \"This module will be removed in 0.20.\", DeprecationWarning)\n"
     ]
    }
   ],
   "source": [
    "# import libraries\n",
    "import pandas as pd\n",
    "import matplotlib.pyplot as plt\n",
    "import numpy as np\n",
    "import pandas as pd\n",
    "import seaborn as sns\n",
    "import csv as csv\n",
    "%matplotlib inline\n",
    "\n",
    "# import scipy and statsmodels libraries to use inbuild stats functions\n",
    "import scipy.stats as stats\n",
    "import statsmodels.api as sm\n",
    "\n",
    "from sklearn.linear_model import LogisticRegression\n",
    "from sklearn.cross_validation import train_test_split\n",
    "from sklearn import metrics\n",
    "from sklearn.cross_validation import cross_val_score\n",
    "\n",
    "# read the csv file \n",
    "df = pd.read_csv('studentInfo.csv')\n"
   ]
  },
  {
   "cell_type": "code",
   "execution_count": 2,
   "metadata": {
    "collapsed": false
   },
   "outputs": [
    {
     "data": {
      "text/plain": [
       "Index(['code_module', 'code_presentation', 'id_student',\n",
       "       'num_of_prev_attempts', 'studied_credits', 'age_band_35-55',\n",
       "       'age_band_55<=', 'gender_M', 'disability_Y',\n",
       "       'highest_education_HE Qualification',\n",
       "       'highest_education_Lower Than A Level',\n",
       "       'highest_education_No Formal quals',\n",
       "       'highest_education_Post Graduate Qualification', 'imd_band_10-20',\n",
       "       'imd_band_20-30%', 'imd_band_30-40%', 'imd_band_40-50%',\n",
       "       'imd_band_50-60%', 'imd_band_60-70%', 'imd_band_70-80%',\n",
       "       'imd_band_80-90%', 'imd_band_90-100%', 'region_East Midlands Region',\n",
       "       'region_Ireland', 'region_London Region', 'region_North Region',\n",
       "       'region_North Western Region', 'region_Scotland',\n",
       "       'region_South East Region', 'region_South Region',\n",
       "       'region_South West Region', 'region_Wales',\n",
       "       'region_West Midlands Region', 'region_Yorkshire Region',\n",
       "       'final_result_Fail', 'final_result_Pass', 'final_result_Withdrawn'],\n",
       "      dtype='object')"
      ]
     },
     "execution_count": 2,
     "metadata": {},
     "output_type": "execute_result"
    }
   ],
   "source": [
    "# convert data in the original dataset from categorical to numerical (it is easier to analyse)\n",
    "df_encoded = pd.get_dummies(df, columns=['age_band','gender','disability', 'highest_education','imd_band','region', 'final_result'], drop_first=True)\n",
    "df_encoded.columns"
   ]
  },
  {
   "cell_type": "code",
   "execution_count": 3,
   "metadata": {
    "collapsed": false
   },
   "outputs": [
    {
     "name": "stdout",
     "output_type": "stream",
     "text": [
      "Training accuracy: 0.697635411553\n",
      "Test accuracy: 0.696527181249\n"
     ]
    }
   ],
   "source": [
    "from sklearn.model_selection import train_test_split\n",
    "from sklearn.linear_model import LogisticRegression\n",
    "from sklearn.metrics import accuracy_score\n",
    "\n",
    "# Split the data into a training and test set.\n",
    "Xlr, Xtestlr, ylr, ytestlr = train_test_split(df_encoded[[ \n",
    "       'num_of_prev_attempts', 'studied_credits', 'age_band_35-55',\n",
    "       'age_band_55<=', 'gender_M', 'disability_Y',\n",
    "       'highest_education_HE Qualification',\n",
    "       'highest_education_Lower Than A Level',\n",
    "       'highest_education_No Formal quals',\n",
    "       'highest_education_Post Graduate Qualification', 'imd_band_10-20',\n",
    "       'imd_band_20-30%', 'imd_band_30-40%', 'imd_band_40-50%',\n",
    "       'imd_band_50-60%', 'imd_band_60-70%', 'imd_band_70-80%',\n",
    "       'imd_band_80-90%', 'imd_band_90-100%', 'region_East Midlands Region',\n",
    "       'region_Ireland', 'region_London Region', 'region_North Region',\n",
    "       'region_North Western Region', 'region_Scotland',\n",
    "       'region_South East Region', 'region_South Region',\n",
    "       'region_South West Region', 'region_Wales',\n",
    "       'region_West Midlands Region', 'region_Yorkshire Region']].values, \n",
    "        (df.final_result == \"Withdrawn\").values,random_state=5)\n",
    "\n",
    "clf = LogisticRegression()\n",
    "\n",
    "# Fit the model on the trainng data.\n",
    "clf.fit(Xlr, ylr)\n",
    "# check the accuracy on the training set\n",
    "print('Training accuracy:',clf.score(Xlr, ylr))\n",
    "# check the accuracy from the testing data.\n",
    "print('Test accuracy:',accuracy_score(clf.predict(Xtestlr), ytestlr))"
   ]
  },
  {
   "cell_type": "code",
   "execution_count": 4,
   "metadata": {
    "collapsed": false
   },
   "outputs": [
    {
     "name": "stdout",
     "output_type": "stream",
     "text": [
      "Data Prep\n",
      "Training\n",
      "[False False False ..., False False False]\n",
      "[[ 0.70219784  0.29780216]\n",
      " [ 0.6784059   0.3215941 ]\n",
      " [ 0.66707329  0.33292671]\n",
      " ..., \n",
      " [ 0.69715898  0.30284102]\n",
      " [ 0.75905892  0.24094108]\n",
      " [ 0.58609081  0.41390919]]\n",
      "Predicting\n",
      "0.697436596673\n",
      "0.639329757166\n",
      "Using 10-fold cross-validation\n",
      "[ 0.69815951  0.6997955   0.6993865   0.7006135   0.69243354  0.69447853\n",
      "  0.71317512  0.69476268  0.68686042  0.6966844 ]\n",
      "0.697634970448\n",
      "Done\n"
     ]
    }
   ],
   "source": [
    "# evaluate the model by splitting into train and test sets\n",
    "\n",
    "print('Data Prep')\n",
    "\n",
    "X_train, X_test, y_train, y_test = train_test_split(Xlr, ylr, test_size=0.3, random_state=0)\n",
    "\n",
    "print('Training')\n",
    "model2 = LogisticRegression()\n",
    "model2.fit(X_train, y_train)\n",
    "# predict class labels for the test set\n",
    "predicted = model2.predict(X_test)\n",
    "print(predicted)\n",
    "\n",
    "# generate class probabilities\n",
    "probs = model2.predict_proba(X_test)\n",
    "print(probs)\n",
    "\n",
    "print('Predicting')\n",
    "# generate evaluation metrics\n",
    "print(metrics.accuracy_score(y_test, predicted))\n",
    "print(metrics.roc_auc_score(y_test, probs[:, 1]))\n",
    "\n",
    "# evaluate the model using 10-fold cross-validation\n",
    "print('Using 10-fold cross-validation')\n",
    "scores = cross_val_score(LogisticRegression(), Xlr, ylr, scoring='accuracy', cv=10)\n",
    "print(scores)\n",
    "print(scores.mean())\n",
    "print('Done')"
   ]
  },
  {
   "cell_type": "markdown",
   "metadata": {
    "collapsed": true
   },
   "source": [
    "** Using classification algorithms, we can predict Withdrawal upto 70% accurately only based on demographic student profile.**"
   ]
  }
 ],
 "metadata": {
  "kernelspec": {
   "display_name": "Python 3",
   "language": "python",
   "name": "python3"
  },
  "language_info": {
   "codemirror_mode": {
    "name": "ipython",
    "version": 3
   },
   "file_extension": ".py",
   "mimetype": "text/x-python",
   "name": "python",
   "nbconvert_exporter": "python",
   "pygments_lexer": "ipython3",
   "version": "3.6.0"
  }
 },
 "nbformat": 4,
 "nbformat_minor": 2
}
