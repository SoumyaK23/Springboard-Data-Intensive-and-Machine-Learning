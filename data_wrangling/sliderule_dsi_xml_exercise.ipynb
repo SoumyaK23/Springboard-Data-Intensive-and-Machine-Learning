{
 "cells": [
  {
   "cell_type": "markdown",
   "metadata": {},
   "source": [
    "# XML example and exercise\n",
    "****\n",
    "+ study examples of accessing nodes in XML tree structure  \n",
    "+ work on exercise to be completed and submitted\n",
    "****\n",
    "+ reference: https://docs.python.org/2.7/library/xml.etree.elementtree.html\n",
    "+ data source: http://www.dbis.informatik.uni-goettingen.de/Mondial\n",
    "****"
   ]
  },
  {
   "cell_type": "markdown",
   "metadata": {},
   "source": [
    "## XML example\n",
    "\n",
    "+ for details about tree traversal and iterators, see https://docs.python.org/2.7/library/xml.etree.elementtree.html"
   ]
  },
  {
   "cell_type": "code",
   "execution_count": 1,
   "metadata": {
    "collapsed": true
   },
   "outputs": [],
   "source": [
    "# import libraries\n",
    "\n",
    "import pandas as pd\n",
    "from xml.etree import ElementTree as ET\n",
    "import numpy as np"
   ]
  },
  {
   "cell_type": "code",
   "execution_count": 2,
   "metadata": {
    "collapsed": true
   },
   "outputs": [],
   "source": [
    "document_tree = ET.parse( './data/mondial_database_less.xml' )"
   ]
  },
  {
   "cell_type": "code",
   "execution_count": 3,
   "metadata": {
    "collapsed": false
   },
   "outputs": [
    {
     "name": "stdout",
     "output_type": "stream",
     "text": [
      "Albania\n",
      "Greece\n",
      "Macedonia\n",
      "Serbia\n",
      "Montenegro\n",
      "Kosovo\n",
      "Andorra\n"
     ]
    }
   ],
   "source": [
    "# print names of all countries\n",
    "for child in document_tree.getroot():\n",
    "    print (child.find('name').text)"
   ]
  },
  {
   "cell_type": "code",
   "execution_count": 4,
   "metadata": {
    "collapsed": false
   },
   "outputs": [
    {
     "name": "stdout",
     "output_type": "stream",
     "text": [
      "* Albania:\n",
      "Tirana, Shkodër, Durrës, Vlorë, Elbasan, Korçë\n",
      "* Greece:\n",
      "Komotini, Kavala, Athina, Peiraias, Peristeri, Acharnes, Patra, Kozani, Kerkyra, Ioannina, Thessaloniki, Iraklio, Chania, Ermoupoli, Rhodes, Tripoli, Lamia, Chalkida, Larissa, Volos, Mytilini, Karyes\n",
      "* Macedonia:\n",
      "Skopje, Kumanovo\n",
      "* Serbia:\n",
      "Beograd, Novi Sad, Niš\n",
      "* Montenegro:\n",
      "Podgorica\n",
      "* Kosovo:\n",
      "Prishtine\n",
      "* Andorra:\n",
      "Andorra la Vella\n"
     ]
    }
   ],
   "source": [
    "# print names of all countries and their cities\n",
    "for element in document_tree.iterfind('country'):\n",
    "    print ('* ' + element.find('name').text + ':'),\n",
    "    capitals_string = ''\n",
    "    for subelement in element.getiterator('city'):\n",
    "        capitals_string += subelement.find('name').text + ', '\n",
    "    print (capitals_string[:-2])"
   ]
  },
  {
   "cell_type": "markdown",
   "metadata": {},
   "source": [
    "****\n",
    "## XML exercise\n",
    "\n",
    "Using data in 'data/mondial_database.xml', the examples above, and refering to https://docs.python.org/2.7/library/xml.etree.elementtree.html, find\n",
    "\n",
    "1. 10 countries with the lowest infant mortality rates\n",
    "2. 10 cities with the largest population\n",
    "3. 10 ethnic groups with the largest overall populations (sum of best/latest estimates over all countries)\n",
    "4. name and country of a) longest river, b) largest lake and c) airport at highest elevation"
   ]
  },
  {
   "cell_type": "code",
   "execution_count": 5,
   "metadata": {
    "collapsed": false
   },
   "outputs": [],
   "source": [
    "# parse the xml document ./data/mondial_database.xml\n",
    "xml_document = ET.parse( './data/mondial_database.xml' )\n"
   ]
  },
  {
   "cell_type": "code",
   "execution_count": 6,
   "metadata": {
    "collapsed": false
   },
   "outputs": [
    {
     "data": {
      "text/html": [
       "<div>\n",
       "<table border=\"1\" class=\"dataframe\">\n",
       "  <thead>\n",
       "    <tr style=\"text-align: right;\">\n",
       "      <th></th>\n",
       "      <th>code</th>\n",
       "      <th>country</th>\n",
       "    </tr>\n",
       "  </thead>\n",
       "  <tbody>\n",
       "    <tr>\n",
       "      <th>0</th>\n",
       "      <td>AL</td>\n",
       "      <td>Albania</td>\n",
       "    </tr>\n",
       "    <tr>\n",
       "      <th>1</th>\n",
       "      <td>GR</td>\n",
       "      <td>Greece</td>\n",
       "    </tr>\n",
       "    <tr>\n",
       "      <th>2</th>\n",
       "      <td>MK</td>\n",
       "      <td>Macedonia</td>\n",
       "    </tr>\n",
       "    <tr>\n",
       "      <th>3</th>\n",
       "      <td>SRB</td>\n",
       "      <td>Serbia</td>\n",
       "    </tr>\n",
       "    <tr>\n",
       "      <th>4</th>\n",
       "      <td>MNE</td>\n",
       "      <td>Montenegro</td>\n",
       "    </tr>\n",
       "    <tr>\n",
       "      <th>5</th>\n",
       "      <td>KOS</td>\n",
       "      <td>Kosovo</td>\n",
       "    </tr>\n",
       "    <tr>\n",
       "      <th>6</th>\n",
       "      <td>AND</td>\n",
       "      <td>Andorra</td>\n",
       "    </tr>\n",
       "    <tr>\n",
       "      <th>7</th>\n",
       "      <td>F</td>\n",
       "      <td>France</td>\n",
       "    </tr>\n",
       "    <tr>\n",
       "      <th>8</th>\n",
       "      <td>E</td>\n",
       "      <td>Spain</td>\n",
       "    </tr>\n",
       "    <tr>\n",
       "      <th>9</th>\n",
       "      <td>A</td>\n",
       "      <td>Austria</td>\n",
       "    </tr>\n",
       "  </tbody>\n",
       "</table>\n",
       "</div>"
      ],
      "text/plain": [
       "  code     country\n",
       "0   AL     Albania\n",
       "1   GR      Greece\n",
       "2   MK   Macedonia\n",
       "3  SRB      Serbia\n",
       "4  MNE  Montenegro\n",
       "5  KOS      Kosovo\n",
       "6  AND     Andorra\n",
       "7    F      France\n",
       "8    E       Spain\n",
       "9    A     Austria"
      ]
     },
     "execution_count": 6,
     "metadata": {},
     "output_type": "execute_result"
    }
   ],
   "source": [
    "# create a shared lookup table for country codes to be used later\n",
    "country_lookup = []\n",
    "\n",
    "for country in xml_document.findall('country'):\n",
    "    for node in list(country):\n",
    "        if node.tag == 'name':   \n",
    "            co = node.text\n",
    "            code = country.attrib['car_code']\n",
    "            \n",
    "    country_lookup.append({'code':code, 'country':co}) \n",
    "        \n",
    "countries = pd.DataFrame(country_lookup)\n",
    "countries.head(10)"
   ]
  },
  {
   "cell_type": "markdown",
   "metadata": {},
   "source": [
    "# Part 1: 10 countries with the lowest infant mortality rates "
   ]
  },
  {
   "cell_type": "code",
   "execution_count": 7,
   "metadata": {
    "collapsed": false
   },
   "outputs": [
    {
     "data": {
      "text/html": [
       "<div>\n",
       "<table border=\"1\" class=\"dataframe\">\n",
       "  <thead>\n",
       "    <tr style=\"text-align: right;\">\n",
       "      <th></th>\n",
       "      <th>country</th>\n",
       "      <th>infant_mortality</th>\n",
       "    </tr>\n",
       "  </thead>\n",
       "  <tbody>\n",
       "    <tr>\n",
       "      <th>0</th>\n",
       "      <td>Monaco</td>\n",
       "      <td>1.81</td>\n",
       "    </tr>\n",
       "    <tr>\n",
       "      <th>1</th>\n",
       "      <td>Japan</td>\n",
       "      <td>2.13</td>\n",
       "    </tr>\n",
       "    <tr>\n",
       "      <th>2</th>\n",
       "      <td>Bermuda</td>\n",
       "      <td>2.48</td>\n",
       "    </tr>\n",
       "    <tr>\n",
       "      <th>3</th>\n",
       "      <td>Norway</td>\n",
       "      <td>2.48</td>\n",
       "    </tr>\n",
       "    <tr>\n",
       "      <th>4</th>\n",
       "      <td>Singapore</td>\n",
       "      <td>2.53</td>\n",
       "    </tr>\n",
       "    <tr>\n",
       "      <th>5</th>\n",
       "      <td>Sweden</td>\n",
       "      <td>2.60</td>\n",
       "    </tr>\n",
       "    <tr>\n",
       "      <th>6</th>\n",
       "      <td>Czech Republic</td>\n",
       "      <td>2.63</td>\n",
       "    </tr>\n",
       "    <tr>\n",
       "      <th>7</th>\n",
       "      <td>Hong Kong</td>\n",
       "      <td>2.73</td>\n",
       "    </tr>\n",
       "    <tr>\n",
       "      <th>8</th>\n",
       "      <td>Macao</td>\n",
       "      <td>3.13</td>\n",
       "    </tr>\n",
       "    <tr>\n",
       "      <th>9</th>\n",
       "      <td>Iceland</td>\n",
       "      <td>3.15</td>\n",
       "    </tr>\n",
       "  </tbody>\n",
       "</table>\n",
       "</div>"
      ],
      "text/plain": [
       "          country  infant_mortality\n",
       "0          Monaco              1.81\n",
       "1           Japan              2.13\n",
       "2         Bermuda              2.48\n",
       "3          Norway              2.48\n",
       "4       Singapore              2.53\n",
       "5          Sweden              2.60\n",
       "6  Czech Republic              2.63\n",
       "7       Hong Kong              2.73\n",
       "8           Macao              3.13\n",
       "9         Iceland              3.15"
      ]
     },
     "execution_count": 7,
     "metadata": {},
     "output_type": "execute_result"
    }
   ],
   "source": [
    "# find all countries in the xml document with corresponding infant mortality \n",
    "    \n",
    "im_data=[]\n",
    "for child in xml_document.getroot().findall('country'):\n",
    "    # if infant mortality values do not exist, ignore the country\n",
    "    if child.find('infant_mortality') != None:\n",
    "        # create a table with country and infant mortality\n",
    "        im_data.append({'country': child.find('name').text, 'infant_mortality':float(child.find('infant_mortality').text)})\n",
    "\n",
    "# create a dataFrame with the list of all countries and their infant mortality\n",
    "im_df = pd.DataFrame(im_data)\n",
    "\n",
    "# sort the top 10 entries in ascending order of infant mortality and display along with country name\n",
    "im_df.set_index('country').sort_values('infant_mortality').reset_index()[:10]\n"
   ]
  },
  {
   "cell_type": "markdown",
   "metadata": {},
   "source": [
    "# Part 2: 10 cities with the largest population"
   ]
  },
  {
   "cell_type": "code",
   "execution_count": 8,
   "metadata": {
    "collapsed": false
   },
   "outputs": [
    {
     "data": {
      "text/html": [
       "<div>\n",
       "<table border=\"1\" class=\"dataframe\">\n",
       "  <thead>\n",
       "    <tr style=\"text-align: right;\">\n",
       "      <th></th>\n",
       "      <th>city</th>\n",
       "      <th>population</th>\n",
       "      <th>year</th>\n",
       "    </tr>\n",
       "  </thead>\n",
       "  <tbody>\n",
       "    <tr>\n",
       "      <th>0</th>\n",
       "      <td>Shanghai</td>\n",
       "      <td>22315474</td>\n",
       "      <td>2010</td>\n",
       "    </tr>\n",
       "    <tr>\n",
       "      <th>1</th>\n",
       "      <td>Istanbul</td>\n",
       "      <td>13710512</td>\n",
       "      <td>2012</td>\n",
       "    </tr>\n",
       "    <tr>\n",
       "      <th>2</th>\n",
       "      <td>Mumbai</td>\n",
       "      <td>12442373</td>\n",
       "      <td>2011</td>\n",
       "    </tr>\n",
       "    <tr>\n",
       "      <th>3</th>\n",
       "      <td>Moskva</td>\n",
       "      <td>11979529</td>\n",
       "      <td>2013</td>\n",
       "    </tr>\n",
       "    <tr>\n",
       "      <th>4</th>\n",
       "      <td>Beijing</td>\n",
       "      <td>11716620</td>\n",
       "      <td>2010</td>\n",
       "    </tr>\n",
       "    <tr>\n",
       "      <th>5</th>\n",
       "      <td>São Paulo</td>\n",
       "      <td>11152344</td>\n",
       "      <td>2010</td>\n",
       "    </tr>\n",
       "    <tr>\n",
       "      <th>6</th>\n",
       "      <td>Tianjin</td>\n",
       "      <td>11090314</td>\n",
       "      <td>2010</td>\n",
       "    </tr>\n",
       "    <tr>\n",
       "      <th>7</th>\n",
       "      <td>Guangzhou</td>\n",
       "      <td>11071424</td>\n",
       "      <td>2010</td>\n",
       "    </tr>\n",
       "    <tr>\n",
       "      <th>8</th>\n",
       "      <td>Delhi</td>\n",
       "      <td>11034555</td>\n",
       "      <td>2011</td>\n",
       "    </tr>\n",
       "    <tr>\n",
       "      <th>9</th>\n",
       "      <td>Shenzhen</td>\n",
       "      <td>10358381</td>\n",
       "      <td>2010</td>\n",
       "    </tr>\n",
       "  </tbody>\n",
       "</table>\n",
       "</div>"
      ],
      "text/plain": [
       "        city  population  year\n",
       "0   Shanghai    22315474  2010\n",
       "1   Istanbul    13710512  2012\n",
       "2     Mumbai    12442373  2011\n",
       "3     Moskva    11979529  2013\n",
       "4    Beijing    11716620  2010\n",
       "5  São Paulo    11152344  2010\n",
       "6    Tianjin    11090314  2010\n",
       "7  Guangzhou    11071424  2010\n",
       "8      Delhi    11034555  2011\n",
       "9   Shenzhen    10358381  2010"
      ]
     },
     "execution_count": 8,
     "metadata": {},
     "output_type": "execute_result"
    }
   ],
   "source": [
    "# find all countries in the xml document with cities and corresponding population for given year\n",
    "\n",
    "pop_data = []      \n",
    "for child in xml_document.getroot().findall('country'):\n",
    "    for subchild in child.getiterator('city'):\n",
    "        # cities have multiple entries according to year\n",
    "        for elementpop in subchild.findall('population'):\n",
    "            year = elementpop.attrib['year']\n",
    "            pop =int(elementpop.text)\n",
    "        \n",
    "        # append the data as part of the city loop so that only latest available figures are used\n",
    "        pop_data.append({'city':subchild.find('name').text,'population': pop, 'year':elementpop.attrib['year'] })\n",
    "\n",
    "# create a dataFrame with the list of all cities and their populations sorted by year\n",
    "pop_df = pd.DataFrame(pop_data)\n",
    "\n",
    "# sort the top 10 entries in descending order of populations and display along with city names and corresponding year\n",
    "pop_df.set_index('city').sort_values('population', ascending=False).reset_index()[:10]\n"
   ]
  },
  {
   "cell_type": "markdown",
   "metadata": {
    "collapsed": true
   },
   "source": [
    "# Part 3: 10 ethnic groups with the largest overall populations (sum of best/latest estimates over all countries)"
   ]
  },
  {
   "cell_type": "code",
   "execution_count": 9,
   "metadata": {
    "collapsed": false
   },
   "outputs": [
    {
     "data": {
      "text/html": [
       "<div>\n",
       "<table border=\"1\" class=\"dataframe\">\n",
       "  <thead>\n",
       "    <tr style=\"text-align: right;\">\n",
       "      <th></th>\n",
       "      <th>ethnicity</th>\n",
       "      <th>population</th>\n",
       "    </tr>\n",
       "  </thead>\n",
       "  <tbody>\n",
       "    <tr>\n",
       "      <th>0</th>\n",
       "      <td>Albanian</td>\n",
       "      <td>2660131</td>\n",
       "    </tr>\n",
       "    <tr>\n",
       "      <th>1</th>\n",
       "      <td>Greek</td>\n",
       "      <td>84004</td>\n",
       "    </tr>\n",
       "  </tbody>\n",
       "</table>\n",
       "</div>"
      ],
      "text/plain": [
       "  ethnicity  population\n",
       "0  Albanian     2660131\n",
       "1     Greek       84004"
      ]
     },
     "execution_count": 9,
     "metadata": {},
     "output_type": "execute_result"
    }
   ],
   "source": [
    "# find all ethnic group populations for countries in the xml_document\n",
    "\n",
    "eth_data = [] \n",
    "\n",
    "for country in xml_document.findall('country'):\n",
    "    for child in list(country):\n",
    "        # find the total population of the country\n",
    "        if child.tag == 'population':\n",
    "            total_pop = int(child.text)\n",
    "        # find population percentage of individual ethnic communities\n",
    "        elif child.tag == 'ethnicgroup':\n",
    "            eth_perc = float(child.attrib['percentage'])\n",
    "             # calculate total population for each ethnicity based on total population of the country\n",
    "            eth_pop = int(total_pop * eth_perc / 100.)\n",
    "            eth_data.append({'ethnicity':child.text, 'population':eth_pop})\n",
    "            \n",
    "# create a dataFrame with the list of ethnicity and corresponding population\n",
    "eth_df = pd.DataFrame(eth_data)\n",
    "eth_df.head(2)"
   ]
  },
  {
   "cell_type": "code",
   "execution_count": 10,
   "metadata": {
    "collapsed": false
   },
   "outputs": [
    {
     "data": {
      "text/html": [
       "<div>\n",
       "<table border=\"1\" class=\"dataframe\">\n",
       "  <thead>\n",
       "    <tr style=\"text-align: right;\">\n",
       "      <th></th>\n",
       "      <th>ethnicity</th>\n",
       "      <th>population</th>\n",
       "    </tr>\n",
       "  </thead>\n",
       "  <tbody>\n",
       "    <tr>\n",
       "      <th>0</th>\n",
       "      <td>Han Chinese</td>\n",
       "      <td>1245058800</td>\n",
       "    </tr>\n",
       "    <tr>\n",
       "      <th>1</th>\n",
       "      <td>Indo-Aryan</td>\n",
       "      <td>871815583</td>\n",
       "    </tr>\n",
       "    <tr>\n",
       "      <th>2</th>\n",
       "      <td>European</td>\n",
       "      <td>494872201</td>\n",
       "    </tr>\n",
       "    <tr>\n",
       "      <th>3</th>\n",
       "      <td>African</td>\n",
       "      <td>318325104</td>\n",
       "    </tr>\n",
       "    <tr>\n",
       "      <th>4</th>\n",
       "      <td>Dravidian</td>\n",
       "      <td>302713744</td>\n",
       "    </tr>\n",
       "    <tr>\n",
       "      <th>5</th>\n",
       "      <td>Mestizo</td>\n",
       "      <td>157734349</td>\n",
       "    </tr>\n",
       "    <tr>\n",
       "      <th>6</th>\n",
       "      <td>Bengali</td>\n",
       "      <td>146776916</td>\n",
       "    </tr>\n",
       "    <tr>\n",
       "      <th>7</th>\n",
       "      <td>Russian</td>\n",
       "      <td>131856989</td>\n",
       "    </tr>\n",
       "    <tr>\n",
       "      <th>8</th>\n",
       "      <td>Japanese</td>\n",
       "      <td>126534212</td>\n",
       "    </tr>\n",
       "    <tr>\n",
       "      <th>9</th>\n",
       "      <td>Malay</td>\n",
       "      <td>121993548</td>\n",
       "    </tr>\n",
       "  </tbody>\n",
       "</table>\n",
       "</div>"
      ],
      "text/plain": [
       "     ethnicity  population\n",
       "0  Han Chinese  1245058800\n",
       "1   Indo-Aryan   871815583\n",
       "2     European   494872201\n",
       "3      African   318325104\n",
       "4    Dravidian   302713744\n",
       "5      Mestizo   157734349\n",
       "6      Bengali   146776916\n",
       "7      Russian   131856989\n",
       "8     Japanese   126534212\n",
       "9        Malay   121993548"
      ]
     },
     "execution_count": 10,
     "metadata": {},
     "output_type": "execute_result"
    }
   ],
   "source": [
    "# find the top 10 overall population as the sum of latest/best populations\n",
    "eth_df.groupby('ethnicity').population.sum().sort_values(ascending=False).head(10).reset_index()"
   ]
  },
  {
   "cell_type": "markdown",
   "metadata": {},
   "source": [
    "# Part 4: name and country of a) longest river, b) largest lake and c) airport at highest elevation"
   ]
  },
  {
   "cell_type": "code",
   "execution_count": 11,
   "metadata": {
    "collapsed": false
   },
   "outputs": [
    {
     "data": {
      "text/html": [
       "<div>\n",
       "<table border=\"1\" class=\"dataframe\">\n",
       "  <thead>\n",
       "    <tr style=\"text-align: right;\">\n",
       "      <th></th>\n",
       "      <th>river_country</th>\n",
       "      <th>river_length</th>\n",
       "      <th>river_name</th>\n",
       "    </tr>\n",
       "  </thead>\n",
       "  <tbody>\n",
       "    <tr>\n",
       "      <th>0</th>\n",
       "      <td>IS</td>\n",
       "      <td>230.0</td>\n",
       "      <td>Thjorsa</td>\n",
       "    </tr>\n",
       "    <tr>\n",
       "      <th>1</th>\n",
       "      <td>IS</td>\n",
       "      <td>206.0</td>\n",
       "      <td>Joekulsa a Fjoellum</td>\n",
       "    </tr>\n",
       "    <tr>\n",
       "      <th>2</th>\n",
       "      <td>N</td>\n",
       "      <td>604.0</td>\n",
       "      <td>Glomma</td>\n",
       "    </tr>\n",
       "    <tr>\n",
       "      <th>3</th>\n",
       "      <td>N</td>\n",
       "      <td>322.0</td>\n",
       "      <td>Lagen</td>\n",
       "    </tr>\n",
       "    <tr>\n",
       "      <th>4</th>\n",
       "      <td>S</td>\n",
       "      <td>93.0</td>\n",
       "      <td>Goetaaelv</td>\n",
       "    </tr>\n",
       "  </tbody>\n",
       "</table>\n",
       "</div>"
      ],
      "text/plain": [
       "  river_country  river_length           river_name\n",
       "0            IS         230.0              Thjorsa\n",
       "1            IS         206.0  Joekulsa a Fjoellum\n",
       "2             N         604.0               Glomma\n",
       "3             N         322.0                Lagen\n",
       "4             S          93.0            Goetaaelv"
      ]
     },
     "execution_count": 11,
     "metadata": {},
     "output_type": "execute_result"
    }
   ],
   "source": [
    "# find all rivers in the document along with the country and length\n",
    "r_length=[]\n",
    "r_name=[]\n",
    "r_country=[]\n",
    "\n",
    "for element in xml_document.iterfind('river'):\n",
    "    try:\n",
    "        r_length.append(float(element.find('length').text))\n",
    "    except:\n",
    "        r_length.append(np.nan)\n",
    "    r_name.append(element.find('name').text)\n",
    "    r_country.append(element.attrib['country'].split(' ')[0])\n",
    "    \n",
    "river_df = pd.DataFrame({'river_name':r_name,'river_length':r_length,'river_country':r_country})\n",
    "river_df.head(5)"
   ]
  },
  {
   "cell_type": "code",
   "execution_count": 12,
   "metadata": {
    "collapsed": false
   },
   "outputs": [
    {
     "data": {
      "text/html": [
       "<div>\n",
       "<table border=\"1\" class=\"dataframe\">\n",
       "  <thead>\n",
       "    <tr style=\"text-align: right;\">\n",
       "      <th></th>\n",
       "      <th>river_country</th>\n",
       "      <th>river_length</th>\n",
       "      <th>river_name</th>\n",
       "      <th>code</th>\n",
       "      <th>country</th>\n",
       "    </tr>\n",
       "  </thead>\n",
       "  <tbody>\n",
       "    <tr>\n",
       "      <th>174</th>\n",
       "      <td>CO</td>\n",
       "      <td>6448.0</td>\n",
       "      <td>Amazonas</td>\n",
       "      <td>CO</td>\n",
       "      <td>Colombia</td>\n",
       "    </tr>\n",
       "  </tbody>\n",
       "</table>\n",
       "</div>"
      ],
      "text/plain": [
       "    river_country  river_length river_name code   country\n",
       "174            CO        6448.0   Amazonas   CO  Colombia"
      ]
     },
     "execution_count": 12,
     "metadata": {},
     "output_type": "execute_result"
    }
   ],
   "source": [
    "# merge the table of rivers along with country names from the lookup table \n",
    "df = pd.merge(river_df, countries, how='left', left_on='river_country', right_on='code')\n",
    "\n",
    "# display the longest river \n",
    "df.sort_values('river_length', ascending=False).head(1)"
   ]
  },
  {
   "cell_type": "code",
   "execution_count": 13,
   "metadata": {
    "collapsed": false
   },
   "outputs": [
    {
     "name": "stdout",
     "output_type": "stream",
     "text": [
      "The longest river in the world is Amazonas in Colombia with a length of 6,448 kilometers\n"
     ]
    }
   ],
   "source": [
    "# display the longest river in the world \n",
    "rl = df.groupby(['country', 'river_name']).river_length.max().sort_values(ascending=False).head(1).reset_index()\n",
    "print('The longest river in the world is ' + rl['river_name'][0] +\n",
    "      ' in ' + rl['country'][0] + ' with a length of ' + str('{:5,.0f}'.format(int(rl['river_length'][0]))) + ' kilometers')"
   ]
  },
  {
   "cell_type": "code",
   "execution_count": 14,
   "metadata": {
    "collapsed": false
   },
   "outputs": [
    {
     "data": {
      "text/html": [
       "<div>\n",
       "<table border=\"1\" class=\"dataframe\">\n",
       "  <thead>\n",
       "    <tr style=\"text-align: right;\">\n",
       "      <th></th>\n",
       "      <th>lake_area</th>\n",
       "      <th>lake_country</th>\n",
       "      <th>lake_name</th>\n",
       "    </tr>\n",
       "  </thead>\n",
       "  <tbody>\n",
       "    <tr>\n",
       "      <th>0</th>\n",
       "      <td>1040.0</td>\n",
       "      <td>SF</td>\n",
       "      <td>Inari</td>\n",
       "    </tr>\n",
       "    <tr>\n",
       "      <th>1</th>\n",
       "      <td>928.0</td>\n",
       "      <td>SF</td>\n",
       "      <td>Oulujaervi</td>\n",
       "    </tr>\n",
       "    <tr>\n",
       "      <th>2</th>\n",
       "      <td>472.0</td>\n",
       "      <td>SF</td>\n",
       "      <td>Kallavesi</td>\n",
       "    </tr>\n",
       "    <tr>\n",
       "      <th>3</th>\n",
       "      <td>4370.0</td>\n",
       "      <td>SF</td>\n",
       "      <td>Saimaa</td>\n",
       "    </tr>\n",
       "    <tr>\n",
       "      <th>4</th>\n",
       "      <td>1118.0</td>\n",
       "      <td>SF</td>\n",
       "      <td>Paeijaenne</td>\n",
       "    </tr>\n",
       "  </tbody>\n",
       "</table>\n",
       "</div>"
      ],
      "text/plain": [
       "   lake_area lake_country   lake_name\n",
       "0     1040.0           SF       Inari\n",
       "1      928.0           SF  Oulujaervi\n",
       "2      472.0           SF   Kallavesi\n",
       "3     4370.0           SF      Saimaa\n",
       "4     1118.0           SF  Paeijaenne"
      ]
     },
     "execution_count": 14,
     "metadata": {},
     "output_type": "execute_result"
    }
   ],
   "source": [
    "# find all lakes in the document along with the country and area\n",
    "lake_data = []\n",
    "\n",
    "for element in xml_document.iterfind('lake'):\n",
    "    l_country = element.attrib['country'].split(' ')[0]\n",
    "    for subelement in list(element):\n",
    "        if subelement.tag == 'name':\n",
    "            l_name = element.find('name').text\n",
    "        elif subelement.tag == 'area':\n",
    "            l_area = float(element.find('area').text)\n",
    "        \n",
    "            lake_data.append({'lake_name':l_name, 'lake_country':l_country, 'lake_area':l_area}) \n",
    "    \n",
    "lake_df = pd.DataFrame(lake_data)\n",
    "lake_df.head(5)\n"
   ]
  },
  {
   "cell_type": "code",
   "execution_count": 15,
   "metadata": {
    "collapsed": false
   },
   "outputs": [
    {
     "data": {
      "text/html": [
       "<div>\n",
       "<table border=\"1\" class=\"dataframe\">\n",
       "  <thead>\n",
       "    <tr style=\"text-align: right;\">\n",
       "      <th></th>\n",
       "      <th>lake_area</th>\n",
       "      <th>lake_country</th>\n",
       "      <th>lake_name</th>\n",
       "      <th>code</th>\n",
       "      <th>country</th>\n",
       "    </tr>\n",
       "  </thead>\n",
       "  <tbody>\n",
       "    <tr>\n",
       "      <th>54</th>\n",
       "      <td>386400.0</td>\n",
       "      <td>R</td>\n",
       "      <td>Caspian Sea</td>\n",
       "      <td>R</td>\n",
       "      <td>Russia</td>\n",
       "    </tr>\n",
       "  </tbody>\n",
       "</table>\n",
       "</div>"
      ],
      "text/plain": [
       "    lake_area lake_country    lake_name code country\n",
       "54   386400.0            R  Caspian Sea    R  Russia"
      ]
     },
     "execution_count": 15,
     "metadata": {},
     "output_type": "execute_result"
    }
   ],
   "source": [
    "# merge the table of lakes along with country names from the lookup table \n",
    "df = pd.merge(lake_df, countries, how='left', left_on='lake_country', right_on='code')\n",
    "\n",
    "# display the largest lake\n",
    "df.sort_values('lake_area', ascending=False).head(1)"
   ]
  },
  {
   "cell_type": "code",
   "execution_count": 16,
   "metadata": {
    "collapsed": false
   },
   "outputs": [
    {
     "name": "stdout",
     "output_type": "stream",
     "text": [
      "The largest lake in the world is Caspian Sea in Russia with an area of 386,400 square kilometers\n"
     ]
    }
   ],
   "source": [
    "# display the largest lake in the world \n",
    "ll = df.groupby(['country', 'lake_name']).lake_area.max().sort_values(ascending=False).head(1).reset_index()\n",
    "print('The largest lake in the world is ' + ll['lake_name'][0] +\n",
    "      ' in ' + ll['country'][0] +\n",
    "      ' with an area of ' + str('{:5,.0f}'.format(int(ll['lake_area'][0]))) + ' square kilometers')"
   ]
  },
  {
   "cell_type": "code",
   "execution_count": 17,
   "metadata": {
    "collapsed": false
   },
   "outputs": [
    {
     "data": {
      "text/html": [
       "<div>\n",
       "<table border=\"1\" class=\"dataframe\">\n",
       "  <thead>\n",
       "    <tr style=\"text-align: right;\">\n",
       "      <th></th>\n",
       "      <th>airport_country</th>\n",
       "      <th>airport_elevation</th>\n",
       "      <th>airport_name</th>\n",
       "    </tr>\n",
       "  </thead>\n",
       "  <tbody>\n",
       "    <tr>\n",
       "      <th>0</th>\n",
       "      <td>AFG</td>\n",
       "      <td>977</td>\n",
       "      <td>Herat</td>\n",
       "    </tr>\n",
       "    <tr>\n",
       "      <th>1</th>\n",
       "      <td>AFG</td>\n",
       "      <td>1792</td>\n",
       "      <td>Kabul Intl</td>\n",
       "    </tr>\n",
       "    <tr>\n",
       "      <th>2</th>\n",
       "      <td>AL</td>\n",
       "      <td>38</td>\n",
       "      <td>Tirana Rinas</td>\n",
       "    </tr>\n",
       "    <tr>\n",
       "      <th>3</th>\n",
       "      <td>DZ</td>\n",
       "      <td>811</td>\n",
       "      <td>Cheikh Larbi Tebessi</td>\n",
       "    </tr>\n",
       "    <tr>\n",
       "      <th>4</th>\n",
       "      <td>DZ</td>\n",
       "      <td>822</td>\n",
       "      <td>Batna Airport</td>\n",
       "    </tr>\n",
       "  </tbody>\n",
       "</table>\n",
       "</div>"
      ],
      "text/plain": [
       "  airport_country  airport_elevation          airport_name\n",
       "0             AFG                977                 Herat\n",
       "1             AFG               1792            Kabul Intl\n",
       "2              AL                 38          Tirana Rinas\n",
       "3              DZ                811  Cheikh Larbi Tebessi\n",
       "4              DZ                822         Batna Airport"
      ]
     },
     "execution_count": 17,
     "metadata": {},
     "output_type": "execute_result"
    }
   ],
   "source": [
    "# find all airports in the document along with their corresponding elevation and country\n",
    "ap_data = []\n",
    "\n",
    "for element in xml_document.iterfind('airport'):\n",
    "    a_country = element.attrib['country'].split(' ')[0]\n",
    "    for subelement in list(element):\n",
    "        if subelement.tag == 'name':\n",
    "            a_name = subelement.text\n",
    "        elif subelement.tag == 'elevation':\n",
    "            if subelement.text != None: \n",
    "                a_elevation = int(subelement.text)\n",
    "                \n",
    "                ap_data.append({'airport_name':a_name, 'airport_country':a_country, 'airport_elevation':a_elevation}) \n",
    "    \n",
    "ap_df = pd.DataFrame(ap_data)\n",
    "ap_df.head(5)"
   ]
  },
  {
   "cell_type": "code",
   "execution_count": 18,
   "metadata": {
    "collapsed": false
   },
   "outputs": [
    {
     "data": {
      "text/html": [
       "<div>\n",
       "<table border=\"1\" class=\"dataframe\">\n",
       "  <thead>\n",
       "    <tr style=\"text-align: right;\">\n",
       "      <th></th>\n",
       "      <th>airport_country</th>\n",
       "      <th>airport_elevation</th>\n",
       "      <th>airport_name</th>\n",
       "      <th>code</th>\n",
       "      <th>country</th>\n",
       "    </tr>\n",
       "  </thead>\n",
       "  <tbody>\n",
       "    <tr>\n",
       "      <th>80</th>\n",
       "      <td>BOL</td>\n",
       "      <td>4063</td>\n",
       "      <td>El Alto Intl</td>\n",
       "      <td>BOL</td>\n",
       "      <td>Bolivia</td>\n",
       "    </tr>\n",
       "  </tbody>\n",
       "</table>\n",
       "</div>"
      ],
      "text/plain": [
       "   airport_country  airport_elevation  airport_name code  country\n",
       "80             BOL               4063  El Alto Intl  BOL  Bolivia"
      ]
     },
     "execution_count": 18,
     "metadata": {},
     "output_type": "execute_result"
    }
   ],
   "source": [
    "# merge the table of airport elevations along with country names from the lookup table \n",
    "df = pd.merge(ap_df, countries, how='left', left_on='airport_country', right_on='code')\n",
    "\n",
    "# display the airport t highest elevation\n",
    "df.sort_values('airport_elevation', ascending=False).head(1)"
   ]
  },
  {
   "cell_type": "code",
   "execution_count": 19,
   "metadata": {
    "collapsed": false
   },
   "outputs": [
    {
     "name": "stdout",
     "output_type": "stream",
     "text": [
      "The airport at highest elevation in the world is the El Alto Intl at an elevation of 4,063 meters\n"
     ]
    }
   ],
   "source": [
    "# display the airport at the highest elevation in the world \n",
    "ae = df.groupby(['country', 'airport_name']).airport_elevation.max().sort_values(ascending=False).head(1).reset_index()\n",
    "print('The airport at highest elevation in the world is the ' + ae['airport_name'][0] + ' at an elevation of ' \n",
    "       + str('{:5,.0f}'.format(int(ae['airport_elevation'][0]))) + ' meters')\n",
    "    "
   ]
  },
  {
   "cell_type": "code",
   "execution_count": null,
   "metadata": {
    "collapsed": true
   },
   "outputs": [],
   "source": []
  }
 ],
 "metadata": {
  "anaconda-cloud": {},
  "kernelspec": {
   "display_name": "Python [conda root]",
   "language": "python",
   "name": "conda-root-py"
  },
  "language_info": {
   "codemirror_mode": {
    "name": "ipython",
    "version": 3
   },
   "file_extension": ".py",
   "mimetype": "text/x-python",
   "name": "python",
   "nbconvert_exporter": "python",
   "pygments_lexer": "ipython3",
   "version": "3.5.2"
  }
 },
 "nbformat": 4,
 "nbformat_minor": 0
}
